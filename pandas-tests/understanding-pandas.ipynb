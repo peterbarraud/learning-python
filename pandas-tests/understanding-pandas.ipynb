{
 "metadata": {
  "language_info": {
   "codemirror_mode": {
    "name": "ipython",
    "version": 3
   },
   "file_extension": ".py",
   "mimetype": "text/x-python",
   "name": "python",
   "nbconvert_exporter": "python",
   "pygments_lexer": "ipython3",
   "version": "3.6.9-final"
  },
  "orig_nbformat": 2,
  "kernelspec": {
   "name": "python_defaultSpec_1601207281211",
   "display_name": "Python 3.6.9 64-bit",
   "metadata": {
    "interpreter": {
     "hash": "df0893f56f349688326838aaeea0de204df53a132722cbd565e54b24a8fec5f6"
    }
   }
  }
 },
 "nbformat": 4,
 "nbformat_minor": 2,
 "cells": [
  {
   "cell_type": "markdown",
   "metadata": {},
   "source": [
    "# Let's learn Pandas by looking at some Covid19 data\n",
    "For testing purposes, we're going to get the data (csv) once\n",
    "Only if we decide to make this public will we get live data"
   ]
  },
  {
   "cell_type": "code",
   "execution_count": 1,
   "metadata": {},
   "outputs": [],
   "source": [
    "import pandas as pd\n",
    "\n",
    "df = pd.read_csv(\"owid-covid-data.csv\")"
   ]
  },
  {
   "cell_type": "markdown",
   "metadata": {},
   "source": [
    "## Some useful information to start off"
   ]
  },
  {
   "cell_type": "code",
   "execution_count": 8,
   "metadata": {
    "tags": []
   },
   "outputs": [
    {
     "output_type": "stream",
     "name": "stdout",
     "text": "<class 'pandas.core.frame.DataFrame'>\nRangeIndex: 44996 entries, 0 to 44995\nData columns (total 41 columns):\n #   Column                           Non-Null Count  Dtype  \n---  ------                           --------------  -----  \n 0   iso_code                         44731 non-null  object \n 1   continent                        44466 non-null  object \n 2   location                         44996 non-null  object \n 3   date                             44996 non-null  object \n 4   total_cases                      44393 non-null  float64\n 5   new_cases                        44192 non-null  float64\n 6   new_cases_smoothed               43410 non-null  float64\n 7   total_deaths                     44393 non-null  float64\n 8   new_deaths                       44192 non-null  float64\n 9   new_deaths_smoothed              43410 non-null  float64\n 10  total_cases_per_million          44128 non-null  float64\n 11  new_cases_per_million            44128 non-null  float64\n 12  new_cases_smoothed_per_million   43345 non-null  float64\n 13  total_deaths_per_million         44128 non-null  float64\n 14  new_deaths_per_million           44128 non-null  float64\n 15  new_deaths_smoothed_per_million  43345 non-null  float64\n 16  new_tests                        15647 non-null  float64\n 17  total_tests                      16022 non-null  float64\n 18  total_tests_per_thousand         16022 non-null  float64\n 19  new_tests_per_thousand           15647 non-null  float64\n 20  new_tests_smoothed               17568 non-null  float64\n 21  new_tests_smoothed_per_thousand  17568 non-null  float64\n 22  tests_per_case                   16149 non-null  float64\n 23  positive_rate                    16533 non-null  float64\n 24  tests_units                      18374 non-null  object \n 25  stringency_index                 37080 non-null  float64\n 26  population                       44731 non-null  float64\n 27  population_density               42701 non-null  float64\n 28  median_age                       40138 non-null  float64\n 29  aged_65_older                    39543 non-null  float64\n 30  aged_70_older                    39930 non-null  float64\n 31  gdp_per_capita                   39625 non-null  float64\n 32  extreme_poverty                  26444 non-null  float64\n 33  cardiovasc_death_rate            40153 non-null  float64\n 34  diabetes_prevalence              41559 non-null  float64\n 35  female_smokers                   31499 non-null  float64\n 36  male_smokers                     31102 non-null  float64\n 37  handwashing_facilities           18750 non-null  float64\n 38  hospital_beds_per_thousand       36304 non-null  float64\n 39  life_expectancy                  44170 non-null  float64\n 40  human_development_index          38737 non-null  float64\ndtypes: float64(36), object(5)\nmemory usage: 14.1+ MB\n"
    },
    {
     "output_type": "execute_result",
     "data": {
      "text/plain": "Index(['iso_code', 'continent', 'location', 'date', 'total_cases', 'new_cases',\n       'new_cases_smoothed', 'total_deaths', 'new_deaths',\n       'new_deaths_smoothed', 'total_cases_per_million',\n       'new_cases_per_million', 'new_cases_smoothed_per_million',\n       'total_deaths_per_million', 'new_deaths_per_million',\n       'new_deaths_smoothed_per_million', 'new_tests', 'total_tests',\n       'total_tests_per_thousand', 'new_tests_per_thousand',\n       'new_tests_smoothed', 'new_tests_smoothed_per_thousand',\n       'tests_per_case', 'positive_rate', 'tests_units', 'stringency_index',\n       'population', 'population_density', 'median_age', 'aged_65_older',\n       'aged_70_older', 'gdp_per_capita', 'extreme_poverty',\n       'cardiovasc_death_rate', 'diabetes_prevalence', 'female_smokers',\n       'male_smokers', 'handwashing_facilities', 'hospital_beds_per_thousand',\n       'life_expectancy', 'human_development_index'],\n      dtype='object')"
     },
     "metadata": {},
     "execution_count": 8
    }
   ],
   "source": [
    "# the first n (5, by default) rows \n",
    "df.head(1)\n",
    "# display the last n (5, by default) rows \n",
    "df.tail(1)\n",
    "# column info - names, data type etc\n",
    "df.info()\n",
    "# column list\n",
    "df.columns\n"
   ]
  },
  {
   "cell_type": "markdown",
   "metadata": {},
   "source": [
    "## Single column data (series)"
   ]
  },
  {
   "cell_type": "code",
   "execution_count": 17,
   "metadata": {
    "tags": []
   },
   "outputs": [
    {
     "output_type": "stream",
     "name": "stdout",
     "text": "<class 'pandas.core.series.Series'>\n0    AFG\n1    AFG\n2    AFG\n3    AFG\n4    AFG\nName: iso_code, dtype: object\n"
    }
   ],
   "source": [
    "print(type(df['iso_code']))\n",
    "print(df['iso_code'].head())"
   ]
  },
  {
   "cell_type": "markdown",
   "metadata": {},
   "source": [
    "## Multi column data (dataframe)"
   ]
  },
  {
   "cell_type": "code",
   "execution_count": 18,
   "metadata": {
    "tags": []
   },
   "outputs": [
    {
     "output_type": "stream",
     "name": "stdout",
     "text": "<class 'pandas.core.frame.DataFrame'>\n      iso_code       location\n0          AFG    Afghanistan\n1          AFG    Afghanistan\n2          AFG    Afghanistan\n3          AFG    Afghanistan\n4          AFG    Afghanistan\n...        ...            ...\n44991      NaN  International\n44992      NaN  International\n44993      NaN  International\n44994      NaN  International\n44995      NaN  International\n\n[44996 rows x 2 columns]\n"
    }
   ],
   "source": [
    "print(type(df[['iso_code','location']]))\n",
    "print(df[['iso_code','location']])"
   ]
  },
  {
   "cell_type": "markdown",
   "metadata": {},
   "source": [
    "## iloc - integer location"
   ]
  },
  {
   "cell_type": "code",
   "execution_count": 49,
   "metadata": {},
   "outputs": [
    {
     "output_type": "execute_result",
     "data": {
      "text/plain": "1    0.0\n2    0.0\nName: total_cases, dtype: float64"
     },
     "metadata": {},
     "execution_count": 49
    }
   ],
   "source": [
    "# using single int - a series of the row at int location\n",
    "df.iloc[0]\n",
    "# using two int arg - returns the value at row 101 and column 2\n",
    "df.iloc[101,2]\n",
    "\n",
    "df.iloc[1:3,2]\n"
   ]
  },
  {
   "cell_type": "markdown",
   "metadata": {},
   "source": [
    "## iloc slicing"
   ]
  },
  {
   "cell_type": "code",
   "execution_count": 21,
   "metadata": {},
   "outputs": [
    {
     "output_type": "execute_result",
     "data": {
      "text/plain": "  iso_code continent     location        date  total_cases  new_cases  \\\n1      AFG      Asia  Afghanistan  2020-01-01          0.0        0.0   \n2      AFG      Asia  Afghanistan  2020-01-02          0.0        0.0   \n3      AFG      Asia  Afghanistan  2020-01-03          0.0        0.0   \n\n   new_cases_smoothed  total_deaths  new_deaths  new_deaths_smoothed  ...  \\\n1                 NaN           0.0         0.0                  NaN  ...   \n2                 NaN           0.0         0.0                  NaN  ...   \n3                 NaN           0.0         0.0                  NaN  ...   \n\n   gdp_per_capita  extreme_poverty  cardiovasc_death_rate  \\\n1        1803.987              NaN                597.029   \n2        1803.987              NaN                597.029   \n3        1803.987              NaN                597.029   \n\n   diabetes_prevalence  female_smokers  male_smokers  handwashing_facilities  \\\n1                 9.59             NaN           NaN                  37.746   \n2                 9.59             NaN           NaN                  37.746   \n3                 9.59             NaN           NaN                  37.746   \n\n   hospital_beds_per_thousand  life_expectancy  human_development_index  \n1                         0.5            64.83                    0.498  \n2                         0.5            64.83                    0.498  \n3                         0.5            64.83                    0.498  \n\n[3 rows x 41 columns]",
      "text/html": "<div>\n<style scoped>\n    .dataframe tbody tr th:only-of-type {\n        vertical-align: middle;\n    }\n\n    .dataframe tbody tr th {\n        vertical-align: top;\n    }\n\n    .dataframe thead th {\n        text-align: right;\n    }\n</style>\n<table border=\"1\" class=\"dataframe\">\n  <thead>\n    <tr style=\"text-align: right;\">\n      <th></th>\n      <th>iso_code</th>\n      <th>continent</th>\n      <th>location</th>\n      <th>date</th>\n      <th>total_cases</th>\n      <th>new_cases</th>\n      <th>new_cases_smoothed</th>\n      <th>total_deaths</th>\n      <th>new_deaths</th>\n      <th>new_deaths_smoothed</th>\n      <th>...</th>\n      <th>gdp_per_capita</th>\n      <th>extreme_poverty</th>\n      <th>cardiovasc_death_rate</th>\n      <th>diabetes_prevalence</th>\n      <th>female_smokers</th>\n      <th>male_smokers</th>\n      <th>handwashing_facilities</th>\n      <th>hospital_beds_per_thousand</th>\n      <th>life_expectancy</th>\n      <th>human_development_index</th>\n    </tr>\n  </thead>\n  <tbody>\n    <tr>\n      <th>1</th>\n      <td>AFG</td>\n      <td>Asia</td>\n      <td>Afghanistan</td>\n      <td>2020-01-01</td>\n      <td>0.0</td>\n      <td>0.0</td>\n      <td>NaN</td>\n      <td>0.0</td>\n      <td>0.0</td>\n      <td>NaN</td>\n      <td>...</td>\n      <td>1803.987</td>\n      <td>NaN</td>\n      <td>597.029</td>\n      <td>9.59</td>\n      <td>NaN</td>\n      <td>NaN</td>\n      <td>37.746</td>\n      <td>0.5</td>\n      <td>64.83</td>\n      <td>0.498</td>\n    </tr>\n    <tr>\n      <th>2</th>\n      <td>AFG</td>\n      <td>Asia</td>\n      <td>Afghanistan</td>\n      <td>2020-01-02</td>\n      <td>0.0</td>\n      <td>0.0</td>\n      <td>NaN</td>\n      <td>0.0</td>\n      <td>0.0</td>\n      <td>NaN</td>\n      <td>...</td>\n      <td>1803.987</td>\n      <td>NaN</td>\n      <td>597.029</td>\n      <td>9.59</td>\n      <td>NaN</td>\n      <td>NaN</td>\n      <td>37.746</td>\n      <td>0.5</td>\n      <td>64.83</td>\n      <td>0.498</td>\n    </tr>\n    <tr>\n      <th>3</th>\n      <td>AFG</td>\n      <td>Asia</td>\n      <td>Afghanistan</td>\n      <td>2020-01-03</td>\n      <td>0.0</td>\n      <td>0.0</td>\n      <td>NaN</td>\n      <td>0.0</td>\n      <td>0.0</td>\n      <td>NaN</td>\n      <td>...</td>\n      <td>1803.987</td>\n      <td>NaN</td>\n      <td>597.029</td>\n      <td>9.59</td>\n      <td>NaN</td>\n      <td>NaN</td>\n      <td>37.746</td>\n      <td>0.5</td>\n      <td>64.83</td>\n      <td>0.498</td>\n    </tr>\n  </tbody>\n</table>\n<p>3 rows × 41 columns</p>\n</div>"
     },
     "metadata": {},
     "execution_count": 21
    }
   ],
   "source": [
    "df.iloc[1:4]"
   ]
  },
  {
   "cell_type": "code",
   "execution_count": 22,
   "metadata": {},
   "outputs": [
    {
     "output_type": "execute_result",
     "data": {
      "text/plain": "  iso_code continent     location        date  total_cases  new_cases  \\\n1      AFG      Asia  Afghanistan  2020-01-01          0.0        0.0   \n4      AFG      Asia  Afghanistan  2020-01-04          0.0        0.0   \n\n   new_cases_smoothed  total_deaths  new_deaths  new_deaths_smoothed  ...  \\\n1                 NaN           0.0         0.0                  NaN  ...   \n4                 NaN           0.0         0.0                  NaN  ...   \n\n   gdp_per_capita  extreme_poverty  cardiovasc_death_rate  \\\n1        1803.987              NaN                597.029   \n4        1803.987              NaN                597.029   \n\n   diabetes_prevalence  female_smokers  male_smokers  handwashing_facilities  \\\n1                 9.59             NaN           NaN                  37.746   \n4                 9.59             NaN           NaN                  37.746   \n\n   hospital_beds_per_thousand  life_expectancy  human_development_index  \n1                         0.5            64.83                    0.498  \n4                         0.5            64.83                    0.498  \n\n[2 rows x 41 columns]",
      "text/html": "<div>\n<style scoped>\n    .dataframe tbody tr th:only-of-type {\n        vertical-align: middle;\n    }\n\n    .dataframe tbody tr th {\n        vertical-align: top;\n    }\n\n    .dataframe thead th {\n        text-align: right;\n    }\n</style>\n<table border=\"1\" class=\"dataframe\">\n  <thead>\n    <tr style=\"text-align: right;\">\n      <th></th>\n      <th>iso_code</th>\n      <th>continent</th>\n      <th>location</th>\n      <th>date</th>\n      <th>total_cases</th>\n      <th>new_cases</th>\n      <th>new_cases_smoothed</th>\n      <th>total_deaths</th>\n      <th>new_deaths</th>\n      <th>new_deaths_smoothed</th>\n      <th>...</th>\n      <th>gdp_per_capita</th>\n      <th>extreme_poverty</th>\n      <th>cardiovasc_death_rate</th>\n      <th>diabetes_prevalence</th>\n      <th>female_smokers</th>\n      <th>male_smokers</th>\n      <th>handwashing_facilities</th>\n      <th>hospital_beds_per_thousand</th>\n      <th>life_expectancy</th>\n      <th>human_development_index</th>\n    </tr>\n  </thead>\n  <tbody>\n    <tr>\n      <th>1</th>\n      <td>AFG</td>\n      <td>Asia</td>\n      <td>Afghanistan</td>\n      <td>2020-01-01</td>\n      <td>0.0</td>\n      <td>0.0</td>\n      <td>NaN</td>\n      <td>0.0</td>\n      <td>0.0</td>\n      <td>NaN</td>\n      <td>...</td>\n      <td>1803.987</td>\n      <td>NaN</td>\n      <td>597.029</td>\n      <td>9.59</td>\n      <td>NaN</td>\n      <td>NaN</td>\n      <td>37.746</td>\n      <td>0.5</td>\n      <td>64.83</td>\n      <td>0.498</td>\n    </tr>\n    <tr>\n      <th>4</th>\n      <td>AFG</td>\n      <td>Asia</td>\n      <td>Afghanistan</td>\n      <td>2020-01-04</td>\n      <td>0.0</td>\n      <td>0.0</td>\n      <td>NaN</td>\n      <td>0.0</td>\n      <td>0.0</td>\n      <td>NaN</td>\n      <td>...</td>\n      <td>1803.987</td>\n      <td>NaN</td>\n      <td>597.029</td>\n      <td>9.59</td>\n      <td>NaN</td>\n      <td>NaN</td>\n      <td>37.746</td>\n      <td>0.5</td>\n      <td>64.83</td>\n      <td>0.498</td>\n    </tr>\n  </tbody>\n</table>\n<p>2 rows × 41 columns</p>\n</div>"
     },
     "metadata": {},
     "execution_count": 22
    }
   ],
   "source": [
    "df.iloc[1:6:3]"
   ]
  },
  {
   "cell_type": "code",
   "execution_count": 23,
   "metadata": {},
   "outputs": [
    {
     "output_type": "execute_result",
     "data": {
      "text/plain": "iso_code                                     NaN\ncontinent                                    NaN\nlocation                           International\ndate                                  2020-09-20\ntotal_cases                                  696\nnew_cases                                    NaN\nnew_cases_smoothed                           NaN\ntotal_deaths                                   7\nnew_deaths                                   NaN\nnew_deaths_smoothed                          NaN\ntotal_cases_per_million                      NaN\nnew_cases_per_million                        NaN\nnew_cases_smoothed_per_million               NaN\ntotal_deaths_per_million                     NaN\nnew_deaths_per_million                       NaN\nnew_deaths_smoothed_per_million              NaN\nnew_tests                                    NaN\ntotal_tests                                  NaN\ntotal_tests_per_thousand                     NaN\nnew_tests_per_thousand                       NaN\nnew_tests_smoothed                           NaN\nnew_tests_smoothed_per_thousand              NaN\ntests_per_case                               NaN\npositive_rate                                NaN\ntests_units                                  NaN\nstringency_index                             NaN\npopulation                                   NaN\npopulation_density                           NaN\nmedian_age                                   NaN\naged_65_older                                NaN\naged_70_older                                NaN\ngdp_per_capita                               NaN\nextreme_poverty                              NaN\ncardiovasc_death_rate                        NaN\ndiabetes_prevalence                          NaN\nfemale_smokers                               NaN\nmale_smokers                                 NaN\nhandwashing_facilities                       NaN\nhospital_beds_per_thousand                   NaN\nlife_expectancy                              NaN\nhuman_development_index                      NaN\nName: 44995, dtype: object"
     },
     "metadata": {},
     "execution_count": 23
    }
   ],
   "source": []
  },
  {
   "cell_type": "markdown",
   "metadata": {},
   "source": [
    "## iloc for x, y co-ordinated"
   ]
  },
  {
   "cell_type": "code",
   "execution_count": 24,
   "metadata": {},
   "outputs": [
    {
     "output_type": "execute_result",
     "data": {
      "text/plain": "'Asia'"
     },
     "metadata": {},
     "execution_count": 24
    }
   ],
   "source": [
    "df.iloc[2,1]"
   ]
  },
  {
   "cell_type": "markdown",
   "metadata": {},
   "source": [
    "## iterate rows"
   ]
  },
  {
   "cell_type": "code",
   "execution_count": 28,
   "metadata": {
    "tags": []
   },
   "outputs": [
    {
     "output_type": "stream",
     "name": "stdout",
     "text": "iso_code                                   AFG\ncontinent                                 Asia\nlocation                           Afghanistan\ndate                                2019-12-31\ntotal_cases                                  0\nnew_cases                                    0\nnew_cases_smoothed                         NaN\ntotal_deaths                                 0\nnew_deaths                                   0\nnew_deaths_smoothed                        NaN\ntotal_cases_per_million                      0\nnew_cases_per_million                        0\nnew_cases_smoothed_per_million             NaN\ntotal_deaths_per_million                     0\nnew_deaths_per_million                       0\nnew_deaths_smoothed_per_million            NaN\nnew_tests                                  NaN\ntotal_tests                                NaN\ntotal_tests_per_thousand                   NaN\nnew_tests_per_thousand                     NaN\nnew_tests_smoothed                         NaN\nnew_tests_smoothed_per_thousand            NaN\ntests_per_case                             NaN\npositive_rate                              NaN\ntests_units                                NaN\nstringency_index                           NaN\npopulation                         3.89283e+07\npopulation_density                      54.422\nmedian_age                                18.6\naged_65_older                            2.581\naged_70_older                            1.337\ngdp_per_capita                         1803.99\nextreme_poverty                            NaN\ncardiovasc_death_rate                  597.029\ndiabetes_prevalence                       9.59\nfemale_smokers                             NaN\nmale_smokers                               NaN\nhandwashing_facilities                  37.746\nhospital_beds_per_thousand                 0.5\nlife_expectancy                          64.83\nhuman_development_index                  0.498\nName: 0, dtype: object\niso_code                                   AFG\ncontinent                                 Asia\nlocation                           Afghanistan\ndate                                2020-01-01\ntotal_cases                                  0\nnew_cases                                    0\nnew_cases_smoothed                         NaN\ntotal_deaths                                 0\nnew_deaths                                   0\nnew_deaths_smoothed                        NaN\ntotal_cases_per_million                      0\nnew_cases_per_million                        0\nnew_cases_smoothed_per_million             NaN\ntotal_deaths_per_million                     0\nnew_deaths_per_million                       0\nnew_deaths_smoothed_per_million            NaN\nnew_tests                                  NaN\ntotal_tests                                NaN\ntotal_tests_per_thousand                   NaN\nnew_tests_per_thousand                     NaN\nnew_tests_smoothed                         NaN\nnew_tests_smoothed_per_thousand            NaN\ntests_per_case                             NaN\npositive_rate                              NaN\ntests_units                                NaN\nstringency_index                             0\npopulation                         3.89283e+07\npopulation_density                      54.422\nmedian_age                                18.6\naged_65_older                            2.581\naged_70_older                            1.337\ngdp_per_capita                         1803.99\nextreme_poverty                            NaN\ncardiovasc_death_rate                  597.029\ndiabetes_prevalence                       9.59\nfemale_smokers                             NaN\nmale_smokers                               NaN\nhandwashing_facilities                  37.746\nhospital_beds_per_thousand                 0.5\nlife_expectancy                          64.83\nhuman_development_index                  0.498\nName: 1, dtype: object\n"
    }
   ],
   "source": [
    "for i, r in df.iloc[0:2].iterrows():\n",
    "    print(r)"
   ]
  },
  {
   "cell_type": "markdown",
   "metadata": {},
   "source": [
    "## loc - column name\n",
    "(also referred to as Boolean indexing, I think)\n",
    "\n",
    "**Note**: loc returns a dataframe. So, you can do other dataframe stuff on the output of loc"
   ]
  },
  {
   "cell_type": "code",
   "execution_count": 30,
   "metadata": {},
   "outputs": [
    {
     "output_type": "execute_result",
     "data": {
      "text/plain": "    iso_code continent     location        date  total_cases  new_cases  \\\n260      AFG      Asia  Afghanistan  2020-09-16      38855.0       40.0   \n261      AFG      Asia  Afghanistan  2020-09-17      38872.0       17.0   \n262      AFG      Asia  Afghanistan  2020-09-18      38872.0        0.0   \n263      AFG      Asia  Afghanistan  2020-09-19      38919.0       47.0   \n264      AFG      Asia  Afghanistan  2020-09-20      39044.0      125.0   \n\n     new_cases_smoothed  total_deaths  new_deaths  new_deaths_smoothed  ...  \\\n260              47.857        1436.0        10.0                2.571  ...   \n261              46.857        1436.0         0.0                2.286  ...   \n262              42.857        1436.0         0.0                2.286  ...   \n263              44.714        1437.0         1.0                2.429  ...   \n264              57.571        1441.0         4.0                3.000  ...   \n\n     gdp_per_capita  extreme_poverty  cardiovasc_death_rate  \\\n260        1803.987              NaN                597.029   \n261        1803.987              NaN                597.029   \n262        1803.987              NaN                597.029   \n263        1803.987              NaN                597.029   \n264        1803.987              NaN                597.029   \n\n     diabetes_prevalence  female_smokers  male_smokers  \\\n260                 9.59             NaN           NaN   \n261                 9.59             NaN           NaN   \n262                 9.59             NaN           NaN   \n263                 9.59             NaN           NaN   \n264                 9.59             NaN           NaN   \n\n     handwashing_facilities  hospital_beds_per_thousand  life_expectancy  \\\n260                  37.746                         0.5            64.83   \n261                  37.746                         0.5            64.83   \n262                  37.746                         0.5            64.83   \n263                  37.746                         0.5            64.83   \n264                  37.746                         0.5            64.83   \n\n     human_development_index  \n260                    0.498  \n261                    0.498  \n262                    0.498  \n263                    0.498  \n264                    0.498  \n\n[5 rows x 41 columns]",
      "text/html": "<div>\n<style scoped>\n    .dataframe tbody tr th:only-of-type {\n        vertical-align: middle;\n    }\n\n    .dataframe tbody tr th {\n        vertical-align: top;\n    }\n\n    .dataframe thead th {\n        text-align: right;\n    }\n</style>\n<table border=\"1\" class=\"dataframe\">\n  <thead>\n    <tr style=\"text-align: right;\">\n      <th></th>\n      <th>iso_code</th>\n      <th>continent</th>\n      <th>location</th>\n      <th>date</th>\n      <th>total_cases</th>\n      <th>new_cases</th>\n      <th>new_cases_smoothed</th>\n      <th>total_deaths</th>\n      <th>new_deaths</th>\n      <th>new_deaths_smoothed</th>\n      <th>...</th>\n      <th>gdp_per_capita</th>\n      <th>extreme_poverty</th>\n      <th>cardiovasc_death_rate</th>\n      <th>diabetes_prevalence</th>\n      <th>female_smokers</th>\n      <th>male_smokers</th>\n      <th>handwashing_facilities</th>\n      <th>hospital_beds_per_thousand</th>\n      <th>life_expectancy</th>\n      <th>human_development_index</th>\n    </tr>\n  </thead>\n  <tbody>\n    <tr>\n      <th>260</th>\n      <td>AFG</td>\n      <td>Asia</td>\n      <td>Afghanistan</td>\n      <td>2020-09-16</td>\n      <td>38855.0</td>\n      <td>40.0</td>\n      <td>47.857</td>\n      <td>1436.0</td>\n      <td>10.0</td>\n      <td>2.571</td>\n      <td>...</td>\n      <td>1803.987</td>\n      <td>NaN</td>\n      <td>597.029</td>\n      <td>9.59</td>\n      <td>NaN</td>\n      <td>NaN</td>\n      <td>37.746</td>\n      <td>0.5</td>\n      <td>64.83</td>\n      <td>0.498</td>\n    </tr>\n    <tr>\n      <th>261</th>\n      <td>AFG</td>\n      <td>Asia</td>\n      <td>Afghanistan</td>\n      <td>2020-09-17</td>\n      <td>38872.0</td>\n      <td>17.0</td>\n      <td>46.857</td>\n      <td>1436.0</td>\n      <td>0.0</td>\n      <td>2.286</td>\n      <td>...</td>\n      <td>1803.987</td>\n      <td>NaN</td>\n      <td>597.029</td>\n      <td>9.59</td>\n      <td>NaN</td>\n      <td>NaN</td>\n      <td>37.746</td>\n      <td>0.5</td>\n      <td>64.83</td>\n      <td>0.498</td>\n    </tr>\n    <tr>\n      <th>262</th>\n      <td>AFG</td>\n      <td>Asia</td>\n      <td>Afghanistan</td>\n      <td>2020-09-18</td>\n      <td>38872.0</td>\n      <td>0.0</td>\n      <td>42.857</td>\n      <td>1436.0</td>\n      <td>0.0</td>\n      <td>2.286</td>\n      <td>...</td>\n      <td>1803.987</td>\n      <td>NaN</td>\n      <td>597.029</td>\n      <td>9.59</td>\n      <td>NaN</td>\n      <td>NaN</td>\n      <td>37.746</td>\n      <td>0.5</td>\n      <td>64.83</td>\n      <td>0.498</td>\n    </tr>\n    <tr>\n      <th>263</th>\n      <td>AFG</td>\n      <td>Asia</td>\n      <td>Afghanistan</td>\n      <td>2020-09-19</td>\n      <td>38919.0</td>\n      <td>47.0</td>\n      <td>44.714</td>\n      <td>1437.0</td>\n      <td>1.0</td>\n      <td>2.429</td>\n      <td>...</td>\n      <td>1803.987</td>\n      <td>NaN</td>\n      <td>597.029</td>\n      <td>9.59</td>\n      <td>NaN</td>\n      <td>NaN</td>\n      <td>37.746</td>\n      <td>0.5</td>\n      <td>64.83</td>\n      <td>0.498</td>\n    </tr>\n    <tr>\n      <th>264</th>\n      <td>AFG</td>\n      <td>Asia</td>\n      <td>Afghanistan</td>\n      <td>2020-09-20</td>\n      <td>39044.0</td>\n      <td>125.0</td>\n      <td>57.571</td>\n      <td>1441.0</td>\n      <td>4.0</td>\n      <td>3.000</td>\n      <td>...</td>\n      <td>1803.987</td>\n      <td>NaN</td>\n      <td>597.029</td>\n      <td>9.59</td>\n      <td>NaN</td>\n      <td>NaN</td>\n      <td>37.746</td>\n      <td>0.5</td>\n      <td>64.83</td>\n      <td>0.498</td>\n    </tr>\n  </tbody>\n</table>\n<p>5 rows × 41 columns</p>\n</div>"
     },
     "metadata": {},
     "execution_count": 30
    }
   ],
   "source": [
    "df.loc[df['iso_code'] == 'AFG'].tail()"
   ]
  },
  {
   "cell_type": "markdown",
   "metadata": {},
   "source": [
    "## Get some overall stats about the dataframe"
   ]
  },
  {
   "cell_type": "code",
   "execution_count": 44,
   "metadata": {},
   "outputs": [
    {
     "output_type": "execute_result",
     "data": {
      "text/plain": "        total_cases    new_cases  new_cases_smoothed  total_deaths  \\\ncount    199.000000   199.000000          199.000000    199.000000   \nmean   20001.296482   196.201005          195.311518    620.015075   \nstd    16147.603367   241.410166          224.256466    573.322943   \nmin        1.000000     0.000000            0.143000      0.000000   \n25%     1316.000000    22.000000           41.714000     42.500000   \n50%    23546.000000    82.000000           77.429000    446.000000   \n75%    36710.000000   279.500000          292.714000   1283.000000   \nmax    39044.000000  1063.000000          758.571000   1441.000000   \n\n       new_deaths  new_deaths_smoothed  total_cases_per_million  \\\ncount  199.000000           199.000000               199.000000   \nmean     7.241206             7.201759               513.797869   \nstd     10.260354             7.393063               414.803263   \nmin      0.000000             0.000000                 0.026000   \n25%      0.000000             1.571000                33.806000   \n50%      3.000000             4.000000               604.855000   \n75%     10.000000            12.285500               943.015000   \nmax     56.000000            27.143000              1002.971000   \n\n       new_cases_per_million  new_cases_smoothed_per_million  \\\ncount             199.000000                      199.000000   \nmean                5.040075                        5.017191   \nstd                 6.201430                        5.760748   \nmin                 0.000000                        0.004000   \n25%                 0.565500                        1.072000   \n50%                 2.106000                        1.989000   \n75%                 7.180000                        7.519500   \nmax                27.307000                       19.486000   \n\n       total_deaths_per_million  ...  gdp_per_capita  extreme_poverty  \\\ncount                199.000000  ...    1.990000e+02              0.0   \nmean                  15.927075  ...    1.803987e+03              NaN   \nstd                   14.727607  ...    2.279471e-13              NaN   \nmin                    0.000000  ...    1.803987e+03              NaN   \n25%                    1.092000  ...    1.803987e+03              NaN   \n50%                   11.457000  ...    1.803987e+03              NaN   \n75%                   32.958000  ...    1.803987e+03              NaN   \nmax                   37.017000  ...    1.803987e+03              NaN   \n\n       cardiovasc_death_rate  diabetes_prevalence  female_smokers  \\\ncount           1.990000e+02         1.990000e+02             0.0   \nmean            5.970290e+02         9.590000e+00             NaN   \nstd             2.279471e-13         3.561674e-15             NaN   \nmin             5.970290e+02         9.590000e+00             NaN   \n25%             5.970290e+02         9.590000e+00             NaN   \n50%             5.970290e+02         9.590000e+00             NaN   \n75%             5.970290e+02         9.590000e+00             NaN   \nmax             5.970290e+02         9.590000e+00             NaN   \n\n       male_smokers  handwashing_facilities  hospital_beds_per_thousand  \\\ncount           0.0            1.990000e+02                       199.0   \nmean            NaN            3.774600e+01                         0.5   \nstd             NaN            7.123348e-15                         0.0   \nmin             NaN            3.774600e+01                         0.5   \n25%             NaN            3.774600e+01                         0.5   \n50%             NaN            3.774600e+01                         0.5   \n75%             NaN            3.774600e+01                         0.5   \nmax             NaN            3.774600e+01                         0.5   \n\n       life_expectancy  human_development_index  \ncount     1.990000e+02                  199.000  \nmean      6.483000e+01                    0.498  \nstd       1.424670e-14                    0.000  \nmin       6.483000e+01                    0.498  \n25%       6.483000e+01                    0.498  \n50%       6.483000e+01                    0.498  \n75%       6.483000e+01                    0.498  \nmax       6.483000e+01                    0.498  \n\n[8 rows x 36 columns]",
      "text/html": "<div>\n<style scoped>\n    .dataframe tbody tr th:only-of-type {\n        vertical-align: middle;\n    }\n\n    .dataframe tbody tr th {\n        vertical-align: top;\n    }\n\n    .dataframe thead th {\n        text-align: right;\n    }\n</style>\n<table border=\"1\" class=\"dataframe\">\n  <thead>\n    <tr style=\"text-align: right;\">\n      <th></th>\n      <th>total_cases</th>\n      <th>new_cases</th>\n      <th>new_cases_smoothed</th>\n      <th>total_deaths</th>\n      <th>new_deaths</th>\n      <th>new_deaths_smoothed</th>\n      <th>total_cases_per_million</th>\n      <th>new_cases_per_million</th>\n      <th>new_cases_smoothed_per_million</th>\n      <th>total_deaths_per_million</th>\n      <th>...</th>\n      <th>gdp_per_capita</th>\n      <th>extreme_poverty</th>\n      <th>cardiovasc_death_rate</th>\n      <th>diabetes_prevalence</th>\n      <th>female_smokers</th>\n      <th>male_smokers</th>\n      <th>handwashing_facilities</th>\n      <th>hospital_beds_per_thousand</th>\n      <th>life_expectancy</th>\n      <th>human_development_index</th>\n    </tr>\n  </thead>\n  <tbody>\n    <tr>\n      <th>count</th>\n      <td>199.000000</td>\n      <td>199.000000</td>\n      <td>199.000000</td>\n      <td>199.000000</td>\n      <td>199.000000</td>\n      <td>199.000000</td>\n      <td>199.000000</td>\n      <td>199.000000</td>\n      <td>199.000000</td>\n      <td>199.000000</td>\n      <td>...</td>\n      <td>1.990000e+02</td>\n      <td>0.0</td>\n      <td>1.990000e+02</td>\n      <td>1.990000e+02</td>\n      <td>0.0</td>\n      <td>0.0</td>\n      <td>1.990000e+02</td>\n      <td>199.0</td>\n      <td>1.990000e+02</td>\n      <td>199.000</td>\n    </tr>\n    <tr>\n      <th>mean</th>\n      <td>20001.296482</td>\n      <td>196.201005</td>\n      <td>195.311518</td>\n      <td>620.015075</td>\n      <td>7.241206</td>\n      <td>7.201759</td>\n      <td>513.797869</td>\n      <td>5.040075</td>\n      <td>5.017191</td>\n      <td>15.927075</td>\n      <td>...</td>\n      <td>1.803987e+03</td>\n      <td>NaN</td>\n      <td>5.970290e+02</td>\n      <td>9.590000e+00</td>\n      <td>NaN</td>\n      <td>NaN</td>\n      <td>3.774600e+01</td>\n      <td>0.5</td>\n      <td>6.483000e+01</td>\n      <td>0.498</td>\n    </tr>\n    <tr>\n      <th>std</th>\n      <td>16147.603367</td>\n      <td>241.410166</td>\n      <td>224.256466</td>\n      <td>573.322943</td>\n      <td>10.260354</td>\n      <td>7.393063</td>\n      <td>414.803263</td>\n      <td>6.201430</td>\n      <td>5.760748</td>\n      <td>14.727607</td>\n      <td>...</td>\n      <td>2.279471e-13</td>\n      <td>NaN</td>\n      <td>2.279471e-13</td>\n      <td>3.561674e-15</td>\n      <td>NaN</td>\n      <td>NaN</td>\n      <td>7.123348e-15</td>\n      <td>0.0</td>\n      <td>1.424670e-14</td>\n      <td>0.000</td>\n    </tr>\n    <tr>\n      <th>min</th>\n      <td>1.000000</td>\n      <td>0.000000</td>\n      <td>0.143000</td>\n      <td>0.000000</td>\n      <td>0.000000</td>\n      <td>0.000000</td>\n      <td>0.026000</td>\n      <td>0.000000</td>\n      <td>0.004000</td>\n      <td>0.000000</td>\n      <td>...</td>\n      <td>1.803987e+03</td>\n      <td>NaN</td>\n      <td>5.970290e+02</td>\n      <td>9.590000e+00</td>\n      <td>NaN</td>\n      <td>NaN</td>\n      <td>3.774600e+01</td>\n      <td>0.5</td>\n      <td>6.483000e+01</td>\n      <td>0.498</td>\n    </tr>\n    <tr>\n      <th>25%</th>\n      <td>1316.000000</td>\n      <td>22.000000</td>\n      <td>41.714000</td>\n      <td>42.500000</td>\n      <td>0.000000</td>\n      <td>1.571000</td>\n      <td>33.806000</td>\n      <td>0.565500</td>\n      <td>1.072000</td>\n      <td>1.092000</td>\n      <td>...</td>\n      <td>1.803987e+03</td>\n      <td>NaN</td>\n      <td>5.970290e+02</td>\n      <td>9.590000e+00</td>\n      <td>NaN</td>\n      <td>NaN</td>\n      <td>3.774600e+01</td>\n      <td>0.5</td>\n      <td>6.483000e+01</td>\n      <td>0.498</td>\n    </tr>\n    <tr>\n      <th>50%</th>\n      <td>23546.000000</td>\n      <td>82.000000</td>\n      <td>77.429000</td>\n      <td>446.000000</td>\n      <td>3.000000</td>\n      <td>4.000000</td>\n      <td>604.855000</td>\n      <td>2.106000</td>\n      <td>1.989000</td>\n      <td>11.457000</td>\n      <td>...</td>\n      <td>1.803987e+03</td>\n      <td>NaN</td>\n      <td>5.970290e+02</td>\n      <td>9.590000e+00</td>\n      <td>NaN</td>\n      <td>NaN</td>\n      <td>3.774600e+01</td>\n      <td>0.5</td>\n      <td>6.483000e+01</td>\n      <td>0.498</td>\n    </tr>\n    <tr>\n      <th>75%</th>\n      <td>36710.000000</td>\n      <td>279.500000</td>\n      <td>292.714000</td>\n      <td>1283.000000</td>\n      <td>10.000000</td>\n      <td>12.285500</td>\n      <td>943.015000</td>\n      <td>7.180000</td>\n      <td>7.519500</td>\n      <td>32.958000</td>\n      <td>...</td>\n      <td>1.803987e+03</td>\n      <td>NaN</td>\n      <td>5.970290e+02</td>\n      <td>9.590000e+00</td>\n      <td>NaN</td>\n      <td>NaN</td>\n      <td>3.774600e+01</td>\n      <td>0.5</td>\n      <td>6.483000e+01</td>\n      <td>0.498</td>\n    </tr>\n    <tr>\n      <th>max</th>\n      <td>39044.000000</td>\n      <td>1063.000000</td>\n      <td>758.571000</td>\n      <td>1441.000000</td>\n      <td>56.000000</td>\n      <td>27.143000</td>\n      <td>1002.971000</td>\n      <td>27.307000</td>\n      <td>19.486000</td>\n      <td>37.017000</td>\n      <td>...</td>\n      <td>1.803987e+03</td>\n      <td>NaN</td>\n      <td>5.970290e+02</td>\n      <td>9.590000e+00</td>\n      <td>NaN</td>\n      <td>NaN</td>\n      <td>3.774600e+01</td>\n      <td>0.5</td>\n      <td>6.483000e+01</td>\n      <td>0.498</td>\n    </tr>\n  </tbody>\n</table>\n<p>8 rows × 36 columns</p>\n</div>"
     },
     "metadata": {},
     "execution_count": 44
    }
   ],
   "source": [
    "df[(df['iso_code'] == 'AFG') & (df['total_cases'] > 0)].describe()"
   ]
  },
  {
   "cell_type": "markdown",
   "metadata": {},
   "source": [
    "## Sorting"
   ]
  },
  {
   "cell_type": "code",
   "execution_count": 36,
   "metadata": {},
   "outputs": [
    {
     "output_type": "execute_result",
     "data": {
      "text/plain": "      iso_code continent       location        date  total_cases  new_cases  \\\n44282      ZWE    Africa       Zimbabwe  2020-03-21          1.0        1.0   \n44283      ZWE    Africa       Zimbabwe  2020-03-22          2.0        1.0   \n44284      ZWE    Africa       Zimbabwe  2020-03-23          2.0        0.0   \n44285      ZWE    Africa       Zimbabwe  2020-03-24          2.0        0.0   \n44286      ZWE    Africa       Zimbabwe  2020-03-25          2.0        0.0   \n...        ...       ...            ...         ...          ...        ...   \n44796      NaN       NaN  International  2020-03-05        705.0        NaN   \n44797      NaN       NaN  International  2020-03-06        705.0        NaN   \n44798      NaN       NaN  International  2020-03-07        705.0        NaN   \n44799      NaN       NaN  International  2020-03-08        705.0        NaN   \n44800      NaN       NaN  International  2020-03-09        705.0        NaN   \n\n       new_cases_smoothed  total_deaths  new_deaths  new_deaths_smoothed  ...  \\\n44282                 NaN           0.0         0.0                  NaN  ...   \n44283                 NaN           0.0         0.0                  NaN  ...   \n44284                 NaN           0.0         0.0                  NaN  ...   \n44285                 NaN           1.0         1.0                  NaN  ...   \n44286                 NaN           1.0         0.0                  NaN  ...   \n...                   ...           ...         ...                  ...  ...   \n44796                 0.0           6.0         NaN                0.286  ...   \n44797                 0.0           6.0         NaN                0.286  ...   \n44798                 0.0           6.0         NaN                0.000  ...   \n44799                 0.0           6.0         NaN                0.000  ...   \n44800                 0.0           6.0         NaN                0.000  ...   \n\n       gdp_per_capita  extreme_poverty  cardiovasc_death_rate  \\\n44282        1899.775             21.4                307.846   \n44283        1899.775             21.4                307.846   \n44284        1899.775             21.4                307.846   \n44285        1899.775             21.4                307.846   \n44286        1899.775             21.4                307.846   \n...               ...              ...                    ...   \n44796             NaN              NaN                    NaN   \n44797             NaN              NaN                    NaN   \n44798             NaN              NaN                    NaN   \n44799             NaN              NaN                    NaN   \n44800             NaN              NaN                    NaN   \n\n       diabetes_prevalence  female_smokers  male_smokers  \\\n44282                 1.82             1.6          30.7   \n44283                 1.82             1.6          30.7   \n44284                 1.82             1.6          30.7   \n44285                 1.82             1.6          30.7   \n44286                 1.82             1.6          30.7   \n...                    ...             ...           ...   \n44796                  NaN             NaN           NaN   \n44797                  NaN             NaN           NaN   \n44798                  NaN             NaN           NaN   \n44799                  NaN             NaN           NaN   \n44800                  NaN             NaN           NaN   \n\n       handwashing_facilities  hospital_beds_per_thousand  life_expectancy  \\\n44282                  36.791                         1.7            61.49   \n44283                  36.791                         1.7            61.49   \n44284                  36.791                         1.7            61.49   \n44285                  36.791                         1.7            61.49   \n44286                  36.791                         1.7            61.49   \n...                       ...                         ...              ...   \n44796                     NaN                         NaN              NaN   \n44797                     NaN                         NaN              NaN   \n44798                     NaN                         NaN              NaN   \n44799                     NaN                         NaN              NaN   \n44800                     NaN                         NaN              NaN   \n\n       human_development_index  \n44282                    0.535  \n44283                    0.535  \n44284                    0.535  \n44285                    0.535  \n44286                    0.535  \n...                        ...  \n44796                      NaN  \n44797                      NaN  \n44798                      NaN  \n44799                      NaN  \n44800                      NaN  \n\n[44996 rows x 41 columns]",
      "text/html": "<div>\n<style scoped>\n    .dataframe tbody tr th:only-of-type {\n        vertical-align: middle;\n    }\n\n    .dataframe tbody tr th {\n        vertical-align: top;\n    }\n\n    .dataframe thead th {\n        text-align: right;\n    }\n</style>\n<table border=\"1\" class=\"dataframe\">\n  <thead>\n    <tr style=\"text-align: right;\">\n      <th></th>\n      <th>iso_code</th>\n      <th>continent</th>\n      <th>location</th>\n      <th>date</th>\n      <th>total_cases</th>\n      <th>new_cases</th>\n      <th>new_cases_smoothed</th>\n      <th>total_deaths</th>\n      <th>new_deaths</th>\n      <th>new_deaths_smoothed</th>\n      <th>...</th>\n      <th>gdp_per_capita</th>\n      <th>extreme_poverty</th>\n      <th>cardiovasc_death_rate</th>\n      <th>diabetes_prevalence</th>\n      <th>female_smokers</th>\n      <th>male_smokers</th>\n      <th>handwashing_facilities</th>\n      <th>hospital_beds_per_thousand</th>\n      <th>life_expectancy</th>\n      <th>human_development_index</th>\n    </tr>\n  </thead>\n  <tbody>\n    <tr>\n      <th>44282</th>\n      <td>ZWE</td>\n      <td>Africa</td>\n      <td>Zimbabwe</td>\n      <td>2020-03-21</td>\n      <td>1.0</td>\n      <td>1.0</td>\n      <td>NaN</td>\n      <td>0.0</td>\n      <td>0.0</td>\n      <td>NaN</td>\n      <td>...</td>\n      <td>1899.775</td>\n      <td>21.4</td>\n      <td>307.846</td>\n      <td>1.82</td>\n      <td>1.6</td>\n      <td>30.7</td>\n      <td>36.791</td>\n      <td>1.7</td>\n      <td>61.49</td>\n      <td>0.535</td>\n    </tr>\n    <tr>\n      <th>44283</th>\n      <td>ZWE</td>\n      <td>Africa</td>\n      <td>Zimbabwe</td>\n      <td>2020-03-22</td>\n      <td>2.0</td>\n      <td>1.0</td>\n      <td>NaN</td>\n      <td>0.0</td>\n      <td>0.0</td>\n      <td>NaN</td>\n      <td>...</td>\n      <td>1899.775</td>\n      <td>21.4</td>\n      <td>307.846</td>\n      <td>1.82</td>\n      <td>1.6</td>\n      <td>30.7</td>\n      <td>36.791</td>\n      <td>1.7</td>\n      <td>61.49</td>\n      <td>0.535</td>\n    </tr>\n    <tr>\n      <th>44284</th>\n      <td>ZWE</td>\n      <td>Africa</td>\n      <td>Zimbabwe</td>\n      <td>2020-03-23</td>\n      <td>2.0</td>\n      <td>0.0</td>\n      <td>NaN</td>\n      <td>0.0</td>\n      <td>0.0</td>\n      <td>NaN</td>\n      <td>...</td>\n      <td>1899.775</td>\n      <td>21.4</td>\n      <td>307.846</td>\n      <td>1.82</td>\n      <td>1.6</td>\n      <td>30.7</td>\n      <td>36.791</td>\n      <td>1.7</td>\n      <td>61.49</td>\n      <td>0.535</td>\n    </tr>\n    <tr>\n      <th>44285</th>\n      <td>ZWE</td>\n      <td>Africa</td>\n      <td>Zimbabwe</td>\n      <td>2020-03-24</td>\n      <td>2.0</td>\n      <td>0.0</td>\n      <td>NaN</td>\n      <td>1.0</td>\n      <td>1.0</td>\n      <td>NaN</td>\n      <td>...</td>\n      <td>1899.775</td>\n      <td>21.4</td>\n      <td>307.846</td>\n      <td>1.82</td>\n      <td>1.6</td>\n      <td>30.7</td>\n      <td>36.791</td>\n      <td>1.7</td>\n      <td>61.49</td>\n      <td>0.535</td>\n    </tr>\n    <tr>\n      <th>44286</th>\n      <td>ZWE</td>\n      <td>Africa</td>\n      <td>Zimbabwe</td>\n      <td>2020-03-25</td>\n      <td>2.0</td>\n      <td>0.0</td>\n      <td>NaN</td>\n      <td>1.0</td>\n      <td>0.0</td>\n      <td>NaN</td>\n      <td>...</td>\n      <td>1899.775</td>\n      <td>21.4</td>\n      <td>307.846</td>\n      <td>1.82</td>\n      <td>1.6</td>\n      <td>30.7</td>\n      <td>36.791</td>\n      <td>1.7</td>\n      <td>61.49</td>\n      <td>0.535</td>\n    </tr>\n    <tr>\n      <th>...</th>\n      <td>...</td>\n      <td>...</td>\n      <td>...</td>\n      <td>...</td>\n      <td>...</td>\n      <td>...</td>\n      <td>...</td>\n      <td>...</td>\n      <td>...</td>\n      <td>...</td>\n      <td>...</td>\n      <td>...</td>\n      <td>...</td>\n      <td>...</td>\n      <td>...</td>\n      <td>...</td>\n      <td>...</td>\n      <td>...</td>\n      <td>...</td>\n      <td>...</td>\n      <td>...</td>\n    </tr>\n    <tr>\n      <th>44796</th>\n      <td>NaN</td>\n      <td>NaN</td>\n      <td>International</td>\n      <td>2020-03-05</td>\n      <td>705.0</td>\n      <td>NaN</td>\n      <td>0.0</td>\n      <td>6.0</td>\n      <td>NaN</td>\n      <td>0.286</td>\n      <td>...</td>\n      <td>NaN</td>\n      <td>NaN</td>\n      <td>NaN</td>\n      <td>NaN</td>\n      <td>NaN</td>\n      <td>NaN</td>\n      <td>NaN</td>\n      <td>NaN</td>\n      <td>NaN</td>\n      <td>NaN</td>\n    </tr>\n    <tr>\n      <th>44797</th>\n      <td>NaN</td>\n      <td>NaN</td>\n      <td>International</td>\n      <td>2020-03-06</td>\n      <td>705.0</td>\n      <td>NaN</td>\n      <td>0.0</td>\n      <td>6.0</td>\n      <td>NaN</td>\n      <td>0.286</td>\n      <td>...</td>\n      <td>NaN</td>\n      <td>NaN</td>\n      <td>NaN</td>\n      <td>NaN</td>\n      <td>NaN</td>\n      <td>NaN</td>\n      <td>NaN</td>\n      <td>NaN</td>\n      <td>NaN</td>\n      <td>NaN</td>\n    </tr>\n    <tr>\n      <th>44798</th>\n      <td>NaN</td>\n      <td>NaN</td>\n      <td>International</td>\n      <td>2020-03-07</td>\n      <td>705.0</td>\n      <td>NaN</td>\n      <td>0.0</td>\n      <td>6.0</td>\n      <td>NaN</td>\n      <td>0.000</td>\n      <td>...</td>\n      <td>NaN</td>\n      <td>NaN</td>\n      <td>NaN</td>\n      <td>NaN</td>\n      <td>NaN</td>\n      <td>NaN</td>\n      <td>NaN</td>\n      <td>NaN</td>\n      <td>NaN</td>\n      <td>NaN</td>\n    </tr>\n    <tr>\n      <th>44799</th>\n      <td>NaN</td>\n      <td>NaN</td>\n      <td>International</td>\n      <td>2020-03-08</td>\n      <td>705.0</td>\n      <td>NaN</td>\n      <td>0.0</td>\n      <td>6.0</td>\n      <td>NaN</td>\n      <td>0.000</td>\n      <td>...</td>\n      <td>NaN</td>\n      <td>NaN</td>\n      <td>NaN</td>\n      <td>NaN</td>\n      <td>NaN</td>\n      <td>NaN</td>\n      <td>NaN</td>\n      <td>NaN</td>\n      <td>NaN</td>\n      <td>NaN</td>\n    </tr>\n    <tr>\n      <th>44800</th>\n      <td>NaN</td>\n      <td>NaN</td>\n      <td>International</td>\n      <td>2020-03-09</td>\n      <td>705.0</td>\n      <td>NaN</td>\n      <td>0.0</td>\n      <td>6.0</td>\n      <td>NaN</td>\n      <td>0.000</td>\n      <td>...</td>\n      <td>NaN</td>\n      <td>NaN</td>\n      <td>NaN</td>\n      <td>NaN</td>\n      <td>NaN</td>\n      <td>NaN</td>\n      <td>NaN</td>\n      <td>NaN</td>\n      <td>NaN</td>\n      <td>NaN</td>\n    </tr>\n  </tbody>\n</table>\n<p>44996 rows × 41 columns</p>\n</div>"
     },
     "metadata": {},
     "execution_count": 36
    }
   ],
   "source": [
    "# single column\n",
    "df.sort_values('iso_code', ascending=False) ## ascending is optional\n",
    "# multiple columns\n",
    "df.sort_values(['iso_code','total_cases'], ascending=[False,True]) #descending on first (ascending=False); ascending on second (ascending=True)"
   ]
  },
  {
   "cell_type": "markdown",
   "metadata": {},
   "source": [
    "## Shortened df\n",
    "So we can look at stuff a little eariser\n",
    "We're removing all the computed fields"
   ]
  },
  {
   "cell_type": "code",
   "execution_count": 29,
   "metadata": {},
   "outputs": [],
   "source": [
    "df = df[['iso_code', 'date', 'total_cases', 'new_cases',\n",
    "       'total_deaths', 'new_deaths', 'new_tests', 'total_tests',\n",
    "       'population', 'female_smokers', 'male_smokers']]"
   ]
  },
  {
   "cell_type": "code",
   "execution_count": 30,
   "metadata": {},
   "outputs": [
    {
     "output_type": "execute_result",
     "data": {
      "text/plain": "  iso_code        date  total_cases  new_cases  total_deaths  new_deaths  \\\n0      AFG  2019-12-31          0.0        0.0           0.0         0.0   \n1      AFG  2020-01-01          0.0        0.0           0.0         0.0   \n2      AFG  2020-01-02          0.0        0.0           0.0         0.0   \n3      AFG  2020-01-03          0.0        0.0           0.0         0.0   \n4      AFG  2020-01-04          0.0        0.0           0.0         0.0   \n\n   new_tests  total_tests  population  female_smokers  male_smokers  \n0        NaN          NaN  38928341.0             NaN           NaN  \n1        NaN          NaN  38928341.0             NaN           NaN  \n2        NaN          NaN  38928341.0             NaN           NaN  \n3        NaN          NaN  38928341.0             NaN           NaN  \n4        NaN          NaN  38928341.0             NaN           NaN  ",
      "text/html": "<div>\n<style scoped>\n    .dataframe tbody tr th:only-of-type {\n        vertical-align: middle;\n    }\n\n    .dataframe tbody tr th {\n        vertical-align: top;\n    }\n\n    .dataframe thead th {\n        text-align: right;\n    }\n</style>\n<table border=\"1\" class=\"dataframe\">\n  <thead>\n    <tr style=\"text-align: right;\">\n      <th></th>\n      <th>iso_code</th>\n      <th>date</th>\n      <th>total_cases</th>\n      <th>new_cases</th>\n      <th>total_deaths</th>\n      <th>new_deaths</th>\n      <th>new_tests</th>\n      <th>total_tests</th>\n      <th>population</th>\n      <th>female_smokers</th>\n      <th>male_smokers</th>\n    </tr>\n  </thead>\n  <tbody>\n    <tr>\n      <th>0</th>\n      <td>AFG</td>\n      <td>2019-12-31</td>\n      <td>0.0</td>\n      <td>0.0</td>\n      <td>0.0</td>\n      <td>0.0</td>\n      <td>NaN</td>\n      <td>NaN</td>\n      <td>38928341.0</td>\n      <td>NaN</td>\n      <td>NaN</td>\n    </tr>\n    <tr>\n      <th>1</th>\n      <td>AFG</td>\n      <td>2020-01-01</td>\n      <td>0.0</td>\n      <td>0.0</td>\n      <td>0.0</td>\n      <td>0.0</td>\n      <td>NaN</td>\n      <td>NaN</td>\n      <td>38928341.0</td>\n      <td>NaN</td>\n      <td>NaN</td>\n    </tr>\n    <tr>\n      <th>2</th>\n      <td>AFG</td>\n      <td>2020-01-02</td>\n      <td>0.0</td>\n      <td>0.0</td>\n      <td>0.0</td>\n      <td>0.0</td>\n      <td>NaN</td>\n      <td>NaN</td>\n      <td>38928341.0</td>\n      <td>NaN</td>\n      <td>NaN</td>\n    </tr>\n    <tr>\n      <th>3</th>\n      <td>AFG</td>\n      <td>2020-01-03</td>\n      <td>0.0</td>\n      <td>0.0</td>\n      <td>0.0</td>\n      <td>0.0</td>\n      <td>NaN</td>\n      <td>NaN</td>\n      <td>38928341.0</td>\n      <td>NaN</td>\n      <td>NaN</td>\n    </tr>\n    <tr>\n      <th>4</th>\n      <td>AFG</td>\n      <td>2020-01-04</td>\n      <td>0.0</td>\n      <td>0.0</td>\n      <td>0.0</td>\n      <td>0.0</td>\n      <td>NaN</td>\n      <td>NaN</td>\n      <td>38928341.0</td>\n      <td>NaN</td>\n      <td>NaN</td>\n    </tr>\n  </tbody>\n</table>\n</div>"
     },
     "metadata": {},
     "execution_count": 30
    }
   ],
   "source": [
    "df.head()"
   ]
  },
  {
   "cell_type": "markdown",
   "metadata": {},
   "source": [
    "## Now some computed fields\n",
    "total_smokers = female_smokers + male_smokers"
   ]
  },
  {
   "cell_type": "code",
   "execution_count": 43,
   "metadata": {},
   "outputs": [],
   "source": [
    "# using iloc - first arg is number of ci\n",
    "df['total_smokers'] = df.iloc[:, 10:11].sum(axis=1)"
   ]
  },
  {
   "cell_type": "code",
   "execution_count": 42,
   "metadata": {},
   "outputs": [
    {
     "output_type": "execute_result",
     "data": {
      "text/plain": "       iso_code        date  total_cases  new_cases  total_deaths  new_deaths  \\\n265         ALB  2020-03-09          2.0        2.0           0.0         0.0   \n266         ALB  2020-03-10          6.0        4.0           0.0         0.0   \n267         ALB  2020-03-11         10.0        4.0           0.0         0.0   \n268         ALB  2020-03-12         11.0        1.0           1.0         1.0   \n269         ALB  2020-03-13         23.0       12.0           1.0         0.0   \n...         ...         ...          ...        ...           ...         ...   \n44726  OWID_WRL  2020-09-16   29626519.0   303965.0      936025.0      6955.0   \n44727  OWID_WRL  2020-09-17   29917981.0   291462.0      941460.0      5435.0   \n44728  OWID_WRL  2020-09-18   30232252.0   314271.0      946778.0      5318.0   \n44729  OWID_WRL  2020-09-19   30541543.0   309291.0      952726.0      5948.0   \n44730  OWID_WRL  2020-09-20   30835922.0   294379.0      957790.0      5064.0   \n\n       new_tests  total_tests    population  female_smokers  male_smokers  \\\n265          NaN          NaN  2.877800e+06           7.100        51.200   \n266          NaN          NaN  2.877800e+06           7.100        51.200   \n267          NaN          NaN  2.877800e+06           7.100        51.200   \n268          NaN          NaN  2.877800e+06           7.100        51.200   \n269          NaN          NaN  2.877800e+06           7.100        51.200   \n...          ...          ...           ...             ...           ...   \n44726        NaN          NaN  7.794799e+09           6.434        34.635   \n44727        NaN          NaN  7.794799e+09           6.434        34.635   \n44728        NaN          NaN  7.794799e+09           6.434        34.635   \n44729        NaN          NaN  7.794799e+09           6.434        34.635   \n44730        NaN          NaN  7.794799e+09           6.434        34.635   \n\n       total_smokers  \n265           102.40  \n266           102.40  \n267           102.40  \n268           102.40  \n269           102.40  \n...              ...  \n44726          69.27  \n44727          69.27  \n44728          69.27  \n44729          69.27  \n44730          69.27  \n\n[31102 rows x 12 columns]",
      "text/html": "<div>\n<style scoped>\n    .dataframe tbody tr th:only-of-type {\n        vertical-align: middle;\n    }\n\n    .dataframe tbody tr th {\n        vertical-align: top;\n    }\n\n    .dataframe thead th {\n        text-align: right;\n    }\n</style>\n<table border=\"1\" class=\"dataframe\">\n  <thead>\n    <tr style=\"text-align: right;\">\n      <th></th>\n      <th>iso_code</th>\n      <th>date</th>\n      <th>total_cases</th>\n      <th>new_cases</th>\n      <th>total_deaths</th>\n      <th>new_deaths</th>\n      <th>new_tests</th>\n      <th>total_tests</th>\n      <th>population</th>\n      <th>female_smokers</th>\n      <th>male_smokers</th>\n      <th>total_smokers</th>\n    </tr>\n  </thead>\n  <tbody>\n    <tr>\n      <th>265</th>\n      <td>ALB</td>\n      <td>2020-03-09</td>\n      <td>2.0</td>\n      <td>2.0</td>\n      <td>0.0</td>\n      <td>0.0</td>\n      <td>NaN</td>\n      <td>NaN</td>\n      <td>2.877800e+06</td>\n      <td>7.100</td>\n      <td>51.200</td>\n      <td>102.40</td>\n    </tr>\n    <tr>\n      <th>266</th>\n      <td>ALB</td>\n      <td>2020-03-10</td>\n      <td>6.0</td>\n      <td>4.0</td>\n      <td>0.0</td>\n      <td>0.0</td>\n      <td>NaN</td>\n      <td>NaN</td>\n      <td>2.877800e+06</td>\n      <td>7.100</td>\n      <td>51.200</td>\n      <td>102.40</td>\n    </tr>\n    <tr>\n      <th>267</th>\n      <td>ALB</td>\n      <td>2020-03-11</td>\n      <td>10.0</td>\n      <td>4.0</td>\n      <td>0.0</td>\n      <td>0.0</td>\n      <td>NaN</td>\n      <td>NaN</td>\n      <td>2.877800e+06</td>\n      <td>7.100</td>\n      <td>51.200</td>\n      <td>102.40</td>\n    </tr>\n    <tr>\n      <th>268</th>\n      <td>ALB</td>\n      <td>2020-03-12</td>\n      <td>11.0</td>\n      <td>1.0</td>\n      <td>1.0</td>\n      <td>1.0</td>\n      <td>NaN</td>\n      <td>NaN</td>\n      <td>2.877800e+06</td>\n      <td>7.100</td>\n      <td>51.200</td>\n      <td>102.40</td>\n    </tr>\n    <tr>\n      <th>269</th>\n      <td>ALB</td>\n      <td>2020-03-13</td>\n      <td>23.0</td>\n      <td>12.0</td>\n      <td>1.0</td>\n      <td>0.0</td>\n      <td>NaN</td>\n      <td>NaN</td>\n      <td>2.877800e+06</td>\n      <td>7.100</td>\n      <td>51.200</td>\n      <td>102.40</td>\n    </tr>\n    <tr>\n      <th>...</th>\n      <td>...</td>\n      <td>...</td>\n      <td>...</td>\n      <td>...</td>\n      <td>...</td>\n      <td>...</td>\n      <td>...</td>\n      <td>...</td>\n      <td>...</td>\n      <td>...</td>\n      <td>...</td>\n      <td>...</td>\n    </tr>\n    <tr>\n      <th>44726</th>\n      <td>OWID_WRL</td>\n      <td>2020-09-16</td>\n      <td>29626519.0</td>\n      <td>303965.0</td>\n      <td>936025.0</td>\n      <td>6955.0</td>\n      <td>NaN</td>\n      <td>NaN</td>\n      <td>7.794799e+09</td>\n      <td>6.434</td>\n      <td>34.635</td>\n      <td>69.27</td>\n    </tr>\n    <tr>\n      <th>44727</th>\n      <td>OWID_WRL</td>\n      <td>2020-09-17</td>\n      <td>29917981.0</td>\n      <td>291462.0</td>\n      <td>941460.0</td>\n      <td>5435.0</td>\n      <td>NaN</td>\n      <td>NaN</td>\n      <td>7.794799e+09</td>\n      <td>6.434</td>\n      <td>34.635</td>\n      <td>69.27</td>\n    </tr>\n    <tr>\n      <th>44728</th>\n      <td>OWID_WRL</td>\n      <td>2020-09-18</td>\n      <td>30232252.0</td>\n      <td>314271.0</td>\n      <td>946778.0</td>\n      <td>5318.0</td>\n      <td>NaN</td>\n      <td>NaN</td>\n      <td>7.794799e+09</td>\n      <td>6.434</td>\n      <td>34.635</td>\n      <td>69.27</td>\n    </tr>\n    <tr>\n      <th>44729</th>\n      <td>OWID_WRL</td>\n      <td>2020-09-19</td>\n      <td>30541543.0</td>\n      <td>309291.0</td>\n      <td>952726.0</td>\n      <td>5948.0</td>\n      <td>NaN</td>\n      <td>NaN</td>\n      <td>7.794799e+09</td>\n      <td>6.434</td>\n      <td>34.635</td>\n      <td>69.27</td>\n    </tr>\n    <tr>\n      <th>44730</th>\n      <td>OWID_WRL</td>\n      <td>2020-09-20</td>\n      <td>30835922.0</td>\n      <td>294379.0</td>\n      <td>957790.0</td>\n      <td>5064.0</td>\n      <td>NaN</td>\n      <td>NaN</td>\n      <td>7.794799e+09</td>\n      <td>6.434</td>\n      <td>34.635</td>\n      <td>69.27</td>\n    </tr>\n  </tbody>\n</table>\n<p>31102 rows × 12 columns</p>\n</div>"
     },
     "metadata": {},
     "execution_count": 42
    }
   ],
   "source": [
    "df[df['total_smokers'] > 0]"
   ]
  },
  {
   "cell_type": "code",
   "execution_count": null,
   "metadata": {},
   "outputs": [],
   "source": []
  }
 ]
}